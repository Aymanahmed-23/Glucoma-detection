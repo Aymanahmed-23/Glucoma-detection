{
 "cells": [
  {
   "cell_type": "code",
   "execution_count": 1,
   "id": "6fb7190d-5b21-4250-ae4f-59f48f7ebdfe",
   "metadata": {},
   "outputs": [
    {
     "name": "stdout",
     "output_type": "stream",
     "text": [
      "Requirement already satisfied: monai==1.3.0 in c:\\users\\singh\\anaconda3\\lib\\site-packages (1.3.0)\n",
      "Requirement already satisfied: numpy>=1.20 in c:\\users\\singh\\anaconda3\\lib\\site-packages (from monai==1.3.0) (1.26.4)\n",
      "Requirement already satisfied: torch>=1.9 in c:\\users\\singh\\anaconda3\\lib\\site-packages (from monai==1.3.0) (2.7.0)\n",
      "Requirement already satisfied: filelock in c:\\users\\singh\\anaconda3\\lib\\site-packages (from torch>=1.9->monai==1.3.0) (3.13.1)\n",
      "Requirement already satisfied: typing-extensions>=4.10.0 in c:\\users\\singh\\anaconda3\\lib\\site-packages (from torch>=1.9->monai==1.3.0) (4.11.0)\n",
      "Requirement already satisfied: sympy>=1.13.3 in c:\\users\\singh\\anaconda3\\lib\\site-packages (from torch>=1.9->monai==1.3.0) (1.14.0)\n",
      "Requirement already satisfied: networkx in c:\\users\\singh\\anaconda3\\lib\\site-packages (from torch>=1.9->monai==1.3.0) (3.3)\n",
      "Requirement already satisfied: jinja2 in c:\\users\\singh\\anaconda3\\lib\\site-packages (from torch>=1.9->monai==1.3.0) (3.1.4)\n",
      "Requirement already satisfied: fsspec in c:\\users\\singh\\anaconda3\\lib\\site-packages (from torch>=1.9->monai==1.3.0) (2024.6.1)\n",
      "Requirement already satisfied: setuptools in c:\\users\\singh\\anaconda3\\lib\\site-packages (from torch>=1.9->monai==1.3.0) (75.1.0)\n",
      "Requirement already satisfied: mpmath<1.4,>=1.1.0 in c:\\users\\singh\\anaconda3\\lib\\site-packages (from sympy>=1.13.3->torch>=1.9->monai==1.3.0) (1.3.0)\n",
      "Requirement already satisfied: MarkupSafe>=2.0 in c:\\users\\singh\\anaconda3\\lib\\site-packages (from jinja2->torch>=1.9->monai==1.3.0) (2.1.3)\n"
     ]
    }
   ],
   "source": [
    "\n",
    "! pip install monai==1.3.0"
   ]
  },
  {
   "cell_type": "code",
   "execution_count": 2,
   "id": "6f169b9b-101e-44ba-80eb-a8b9e692a58f",
   "metadata": {},
   "outputs": [],
   "source": [
    "import warnings \n",
    "warnings.filterwarnings(\"ignore\")\n",
    "\n",
    "import numpy as np\n",
    "import pandas as pd\n",
    "import os\n",
    "from glob import glob\n",
    "from PIL import Image\n",
    "from pathlib import Path\n",
    "import matplotlib.pyplot as plt\n",
    "from sklearn.cluster import KMeans\n",
    "from scipy import ndimage\n",
    "import cv2\n",
    "\n",
    "from typing import List, Tuple, Dict, Union, Callable, Iterable\n"
   ]
  },
  {
   "cell_type": "code",
   "execution_count": 3,
   "id": "c68d5d6f-f121-4531-ae75-aa4aadaa4c38",
   "metadata": {},
   "outputs": [
    {
     "ename": "AttributeError",
     "evalue": "'FileFinder' object has no attribute 'find_module'",
     "output_type": "error",
     "traceback": [
      "\u001b[1;31m---------------------------------------------------------------------------\u001b[0m",
      "\u001b[1;31mAttributeError\u001b[0m                            Traceback (most recent call last)",
      "Cell \u001b[1;32mIn[3], line 4\u001b[0m\n\u001b[0;32m      2\u001b[0m \u001b[38;5;28;01mimport\u001b[39;00m \u001b[38;5;21;01mnumpy\u001b[39;00m \u001b[38;5;28;01mas\u001b[39;00m \u001b[38;5;21;01mnp\u001b[39;00m\n\u001b[0;32m      3\u001b[0m \u001b[38;5;28;01mimport\u001b[39;00m \u001b[38;5;21;01mtorch\u001b[39;00m\n\u001b[1;32m----> 4\u001b[0m \u001b[38;5;28;01mfrom\u001b[39;00m \u001b[38;5;21;01mmonai\u001b[39;00m\u001b[38;5;21;01m.\u001b[39;00m\u001b[38;5;21;01mutils\u001b[39;00m \u001b[38;5;28;01mimport\u001b[39;00m set_determinism\n\u001b[0;32m      6\u001b[0m \u001b[38;5;28;01mdef\u001b[39;00m \u001b[38;5;21mmake_deterministic\u001b[39m(seed):\n\u001b[0;32m      7\u001b[0m \u001b[38;5;250m    \u001b[39m\u001b[38;5;124;03m\"\"\"\u001b[39;00m\n\u001b[0;32m      8\u001b[0m \u001b[38;5;124;03m    Make the code deterministic using the specified seed for Python, PyTorch, and MONAI.\u001b[39;00m\n\u001b[0;32m      9\u001b[0m \u001b[38;5;124;03m    \u001b[39;00m\n\u001b[0;32m     10\u001b[0m \u001b[38;5;124;03m    Args:\u001b[39;00m\n\u001b[0;32m     11\u001b[0m \u001b[38;5;124;03m        seed (int): The seed to use for random number generation.\u001b[39;00m\n\u001b[0;32m     12\u001b[0m \u001b[38;5;124;03m    \"\"\"\u001b[39;00m\n",
      "File \u001b[1;32mc:\\Users\\singh\\anaconda3\\Lib\\site-packages\\monai\\__init__.py:58\u001b[0m\n\u001b[0;32m     44\u001b[0m excludes \u001b[38;5;241m=\u001b[39m \u001b[38;5;124m\"\u001b[39m\u001b[38;5;124m|\u001b[39m\u001b[38;5;124m\"\u001b[39m\u001b[38;5;241m.\u001b[39mjoin(\n\u001b[0;32m     45\u001b[0m     [\n\u001b[0;32m     46\u001b[0m         \u001b[38;5;124m\"\u001b[39m\u001b[38;5;124m(^(monai.handlers))\u001b[39m\u001b[38;5;124m\"\u001b[39m,\n\u001b[1;32m   (...)\u001b[0m\n\u001b[0;32m     54\u001b[0m     ]\n\u001b[0;32m     55\u001b[0m )\n\u001b[0;32m     57\u001b[0m \u001b[38;5;66;03m# load directory modules only, skip loading individual files\u001b[39;00m\n\u001b[1;32m---> 58\u001b[0m load_submodules(sys\u001b[38;5;241m.\u001b[39mmodules[\u001b[38;5;18m__name__\u001b[39m], \u001b[38;5;28;01mFalse\u001b[39;00m, exclude_pattern\u001b[38;5;241m=\u001b[39mexcludes)\n\u001b[0;32m     60\u001b[0m \u001b[38;5;66;03m# load all modules, this will trigger all export decorations\u001b[39;00m\n\u001b[0;32m     61\u001b[0m load_submodules(sys\u001b[38;5;241m.\u001b[39mmodules[\u001b[38;5;18m__name__\u001b[39m], \u001b[38;5;28;01mTrue\u001b[39;00m, exclude_pattern\u001b[38;5;241m=\u001b[39mexcludes)\n",
      "File \u001b[1;32mc:\\Users\\singh\\anaconda3\\Lib\\site-packages\\monai\\utils\\module.py:212\u001b[0m, in \u001b[0;36mload_submodules\u001b[1;34m(basemod, load_all, exclude_pattern)\u001b[0m\n\u001b[0;32m    210\u001b[0m \u001b[38;5;28;01mtry\u001b[39;00m:\n\u001b[0;32m    211\u001b[0m     mod \u001b[38;5;241m=\u001b[39m import_module(name)\n\u001b[1;32m--> 212\u001b[0m     importer\u001b[38;5;241m.\u001b[39mfind_module(name)\u001b[38;5;241m.\u001b[39mload_module(name)  \u001b[38;5;66;03m# type: ignore\u001b[39;00m\n\u001b[0;32m    213\u001b[0m     submodules\u001b[38;5;241m.\u001b[39mappend(mod)\n\u001b[0;32m    214\u001b[0m \u001b[38;5;28;01mexcept\u001b[39;00m OptionalImportError:\n",
      "\u001b[1;31mAttributeError\u001b[0m: 'FileFinder' object has no attribute 'find_module'"
     ]
    }
   ],
   "source": [
    "import random\n",
    "import numpy as np\n",
    "import torch\n",
    "from monai.utils import set_determinism\n",
    "\n",
    "def make_deterministic(seed):\n",
    "    \"\"\"\n",
    "    Make the code deterministic using the specified seed for Python, PyTorch, and MONAI.\n",
    "    \n",
    "    Args:\n",
    "        seed (int): The seed to use for random number generation.\n",
    "    \"\"\"\n",
    "    # The seed for Python's random module\n",
    "    random.seed(seed)\n",
    "    \n",
    "    # The seed for numpy\n",
    "    np.random.seed(seed)\n",
    "    \n",
    "    # The seed for PyTorch\n",
    "    torch.manual_seed(seed)\n",
    "    torch.cuda.manual_seed_all(seed)\n",
    "    torch.backends.cudnn.deterministic = True\n",
    "    torch.backends.cudnn.benchmark = False\n",
    "    \n",
    "    # The seed for MONAI\n",
    "    set_determinism(seed=seed)\n",
    "    \n",
    "def deterministic(func):\n",
    "    \"\"\"\n",
    "    A decorator that makes a function deterministic.\n",
    "    \"\"\"\n",
    "    def wrapper(*args, **kwargs):\n",
    "        if 'random_seed' in kwargs:\n",
    "            random_seed = kwargs['random_seed']\n",
    "        else:\n",
    "            random_seed = 0\n",
    "        make_deterministic(seed=random_seed)\n",
    "        return func(*args, **kwargs)\n",
    "    return wrapper"
   ]
  },
  {
   "cell_type": "code",
   "execution_count": 4,
   "id": "94c4c2c9-bb14-4bb7-ace1-f6de4fd569b9",
   "metadata": {},
   "outputs": [
    {
     "name": "stdout",
     "output_type": "stream",
     "text": [
      "Requirement already satisfied: monai in c:\\users\\singh\\anaconda3\\lib\\site-packages (1.3.0)\n",
      "Collecting monai\n",
      "  Downloading monai-1.4.0-py3-none-any.whl.metadata (11 kB)\n",
      "Requirement already satisfied: numpy<2.0,>=1.24 in c:\\users\\singh\\anaconda3\\lib\\site-packages (from monai) (1.26.4)\n",
      "Requirement already satisfied: torch>=1.9 in c:\\users\\singh\\anaconda3\\lib\\site-packages (from monai) (2.7.0)\n",
      "Requirement already satisfied: filelock in c:\\users\\singh\\anaconda3\\lib\\site-packages (from torch>=1.9->monai) (3.13.1)\n",
      "Requirement already satisfied: typing-extensions>=4.10.0 in c:\\users\\singh\\anaconda3\\lib\\site-packages (from torch>=1.9->monai) (4.11.0)\n",
      "Requirement already satisfied: sympy>=1.13.3 in c:\\users\\singh\\anaconda3\\lib\\site-packages (from torch>=1.9->monai) (1.14.0)\n",
      "Requirement already satisfied: networkx in c:\\users\\singh\\anaconda3\\lib\\site-packages (from torch>=1.9->monai) (3.3)\n",
      "Requirement already satisfied: jinja2 in c:\\users\\singh\\anaconda3\\lib\\site-packages (from torch>=1.9->monai) (3.1.4)\n",
      "Requirement already satisfied: fsspec in c:\\users\\singh\\anaconda3\\lib\\site-packages (from torch>=1.9->monai) (2024.6.1)\n",
      "Requirement already satisfied: setuptools in c:\\users\\singh\\anaconda3\\lib\\site-packages (from torch>=1.9->monai) (75.1.0)\n",
      "Requirement already satisfied: mpmath<1.4,>=1.1.0 in c:\\users\\singh\\anaconda3\\lib\\site-packages (from sympy>=1.13.3->torch>=1.9->monai) (1.3.0)\n",
      "Requirement already satisfied: MarkupSafe>=2.0 in c:\\users\\singh\\anaconda3\\lib\\site-packages (from jinja2->torch>=1.9->monai) (2.1.3)\n",
      "Downloading monai-1.4.0-py3-none-any.whl (1.5 MB)\n",
      "   ---------------------------------------- 0.0/1.5 MB ? eta -:--:--\n",
      "   ---------------------------------- ----- 1.3/1.5 MB 6.7 MB/s eta 0:00:01\n",
      "   ---------------------------------------- 1.5/1.5 MB 4.7 MB/s eta 0:00:00\n",
      "Installing collected packages: monai\n",
      "  Attempting uninstall: monai\n",
      "    Found existing installation: monai 1.3.0\n",
      "    Uninstalling monai-1.3.0:\n",
      "      Successfully uninstalled monai-1.3.0\n",
      "Successfully installed monai-1.4.0\n"
     ]
    }
   ],
   "source": [
    "!pip install --upgrade monai\n"
   ]
  },
  {
   "cell_type": "code",
   "execution_count": 5,
   "id": "23235930-4df1-45c4-8d05-af4646fd880a",
   "metadata": {},
   "outputs": [
    {
     "name": "stdout",
     "output_type": "stream",
     "text": [
      "2.7.0+cpu\n"
     ]
    }
   ],
   "source": [
    "import torch\n",
    "print(torch.__version__)\n"
   ]
  },
  {
   "cell_type": "code",
   "execution_count": 6,
   "id": "73b55c92",
   "metadata": {},
   "outputs": [
    {
     "name": "stdout",
     "output_type": "stream",
     "text": [
      "MONAI imported successfully!\n"
     ]
    }
   ],
   "source": [
    "from monai.utils import set_determinism\n",
    "print(\"MONAI imported successfully!\")\n"
   ]
  },
  {
   "cell_type": "code",
   "execution_count": 7,
   "id": "2a322b35",
   "metadata": {},
   "outputs": [],
   "source": [
    "import random\n",
    "import numpy as np\n",
    "import torch\n",
    "from monai.utils import set_determinism\n",
    "\n",
    "def make_deterministic(seed):\n",
    "    \"\"\"\n",
    "    Make the code deterministic using the specified seed for Python, PyTorch, and MONAI.\n",
    "    \n",
    "    Args:\n",
    "        seed (int): The seed to use for random number generation.\n",
    "    \"\"\"\n",
    "    # The seed for Python's random module\n",
    "    random.seed(seed)\n",
    "    \n",
    "    # The seed for numpy\n",
    "    np.random.seed(seed)\n",
    "    \n",
    "    # The seed for PyTorch\n",
    "    torch.manual_seed(seed)\n",
    "    torch.cuda.manual_seed_all(seed)\n",
    "    torch.backends.cudnn.deterministic = True\n",
    "    torch.backends.cudnn.benchmark = False\n",
    "    \n",
    "    # The seed for MONAI\n",
    "    set_determinism(seed=seed)\n",
    "    \n",
    "def deterministic(func):\n",
    "    \"\"\"\n",
    "    A decorator that makes a function deterministic.\n",
    "    \"\"\"\n",
    "    def wrapper(*args, **kwargs):\n",
    "        if 'random_seed' in kwargs:\n",
    "            random_seed = kwargs['random_seed']\n",
    "        else:\n",
    "            random_seed = 0\n",
    "        make_deterministic(seed=random_seed)\n",
    "        return func(*args, **kwargs)\n",
    "    return wrapper"
   ]
  },
  {
   "cell_type": "code",
   "execution_count": 8,
   "id": "91175ea7",
   "metadata": {},
   "outputs": [
    {
     "name": "stdout",
     "output_type": "stream",
     "text": [
      "Device is: cpu\n"
     ]
    }
   ],
   "source": [
    "# Selecting the processor device. Making sure our accelerator is set to GPU.\n",
    "device = torch.device(\"cuda\" if torch.cuda.is_available() else \"cpu\")\n",
    "print(f\"Device is: {device}\")"
   ]
  },
  {
   "cell_type": "code",
   "execution_count": 9,
   "id": "da804fff",
   "metadata": {},
   "outputs": [
    {
     "data": {
      "text/html": [
       "<div>\n",
       "<style scoped>\n",
       "    .dataframe tbody tr th:only-of-type {\n",
       "        vertical-align: middle;\n",
       "    }\n",
       "\n",
       "    .dataframe tbody tr th {\n",
       "        vertical-align: top;\n",
       "    }\n",
       "\n",
       "    .dataframe thead th {\n",
       "        text-align: right;\n",
       "    }\n",
       "</style>\n",
       "<table border=\"1\" class=\"dataframe\">\n",
       "  <thead>\n",
       "    <tr style=\"text-align: right;\">\n",
       "      <th></th>\n",
       "      <th>imageID</th>\n",
       "      <th>binaryLabels</th>\n",
       "    </tr>\n",
       "  </thead>\n",
       "  <tbody>\n",
       "    <tr>\n",
       "      <th>0</th>\n",
       "      <td>image_0.jpg</td>\n",
       "      <td>0</td>\n",
       "    </tr>\n",
       "    <tr>\n",
       "      <th>1</th>\n",
       "      <td>image_1.jpg</td>\n",
       "      <td>0</td>\n",
       "    </tr>\n",
       "    <tr>\n",
       "      <th>2</th>\n",
       "      <td>image_3.jpg</td>\n",
       "      <td>0</td>\n",
       "    </tr>\n",
       "    <tr>\n",
       "      <th>3</th>\n",
       "      <td>image_4.jpg</td>\n",
       "      <td>0</td>\n",
       "    </tr>\n",
       "    <tr>\n",
       "      <th>4</th>\n",
       "      <td>image_5.jpg</td>\n",
       "      <td>0</td>\n",
       "    </tr>\n",
       "  </tbody>\n",
       "</table>\n",
       "</div>"
      ],
      "text/plain": [
       "       imageID  binaryLabels\n",
       "0  image_0.jpg             0\n",
       "1  image_1.jpg             0\n",
       "2  image_3.jpg             0\n",
       "3  image_4.jpg             0\n",
       "4  image_5.jpg             0"
      ]
     },
     "execution_count": 9,
     "metadata": {},
     "output_type": "execute_result"
    }
   ],
   "source": [
    "meta = pd.read_csv(\"D:\\Research\\ML\\G1020\\G1020.csv\" )\n",
    "meta.head()"
   ]
  },
  {
   "cell_type": "code",
   "execution_count": 10,
   "id": "be3306a6",
   "metadata": {},
   "outputs": [
    {
     "name": "stdout",
     "output_type": "stream",
     "text": [
      "<class 'pandas.core.frame.DataFrame'>\n",
      "RangeIndex: 1020 entries, 0 to 1019\n",
      "Data columns (total 2 columns):\n",
      " #   Column        Non-Null Count  Dtype \n",
      "---  ------        --------------  ----- \n",
      " 0   imageID       1020 non-null   object\n",
      " 1   binaryLabels  1020 non-null   int64 \n",
      "dtypes: int64(1), object(1)\n",
      "memory usage: 16.1+ KB\n"
     ]
    }
   ],
   "source": [
    "meta.info()"
   ]
  },
  {
   "cell_type": "code",
   "execution_count": 14,
   "id": "2eb725ed",
   "metadata": {},
   "outputs": [
    {
     "data": {
      "text/plain": [
       "binaryLabels\n",
       "0    724\n",
       "1    296\n",
       "Name: count, dtype: int64"
      ]
     },
     "execution_count": 14,
     "metadata": {},
     "output_type": "execute_result"
    }
   ],
   "source": [
    "meta[\"binaryLabels\"].value_counts()"
   ]
  },
  {
   "cell_type": "code",
   "execution_count": 13,
   "id": "3defba74",
   "metadata": {},
   "outputs": [
    {
     "name": "stdout",
     "output_type": "stream",
     "text": [
      "Index(['imageID', 'binaryLabels'], dtype='object')\n"
     ]
    }
   ],
   "source": [
    "print(meta.columns)\n"
   ]
  },
  {
   "cell_type": "code",
   "execution_count": 18,
   "id": "9e9bc754",
   "metadata": {},
   "outputs": [
    {
     "name": "stdout",
     "output_type": "stream",
     "text": [
      "0          image_0.jpg\n",
      "1          image_1.jpg\n",
      "2          image_3.jpg\n",
      "3          image_4.jpg\n",
      "4          image_5.jpg\n",
      "             ...      \n",
      "1015    image_3198.jpg\n",
      "1016    image_3199.jpg\n",
      "1017    image_3201.jpg\n",
      "1018    image_3202.jpg\n",
      "1019    image_2568.jpg\n",
      "Name: imageID, Length: 1020, dtype: object\n"
     ]
    }
   ],
   "source": [
    "print(meta[\"imageID\"])\n"
   ]
  },
  {
   "cell_type": "code",
   "execution_count": 19,
   "id": "71d5032c",
   "metadata": {},
   "outputs": [
    {
     "data": {
      "text/html": [
       "<div>\n",
       "<style scoped>\n",
       "    .dataframe tbody tr th:only-of-type {\n",
       "        vertical-align: middle;\n",
       "    }\n",
       "\n",
       "    .dataframe tbody tr th {\n",
       "        vertical-align: top;\n",
       "    }\n",
       "\n",
       "    .dataframe thead th {\n",
       "        text-align: right;\n",
       "    }\n",
       "</style>\n",
       "<table border=\"1\" class=\"dataframe\">\n",
       "  <thead>\n",
       "    <tr style=\"text-align: right;\">\n",
       "      <th></th>\n",
       "      <th>imageID</th>\n",
       "      <th>binaryLabels</th>\n",
       "      <th>Image Path</th>\n",
       "      <th>Mask Path</th>\n",
       "    </tr>\n",
       "  </thead>\n",
       "  <tbody>\n",
       "    <tr>\n",
       "      <th>0</th>\n",
       "      <td>image_0.jpg</td>\n",
       "      <td>0</td>\n",
       "      <td>D:/Research/ML/G1020/Images\\image_0.jpg</td>\n",
       "      <td>D:/Research/ML/G1020/Masks\\image_0.mat</td>\n",
       "    </tr>\n",
       "    <tr>\n",
       "      <th>1</th>\n",
       "      <td>image_1.jpg</td>\n",
       "      <td>0</td>\n",
       "      <td>D:/Research/ML/G1020/Images\\image_1.jpg</td>\n",
       "      <td>D:/Research/ML/G1020/Masks\\image_1.mat</td>\n",
       "    </tr>\n",
       "    <tr>\n",
       "      <th>2</th>\n",
       "      <td>image_3.jpg</td>\n",
       "      <td>0</td>\n",
       "      <td>D:/Research/ML/G1020/Images\\image_3.jpg</td>\n",
       "      <td>D:/Research/ML/G1020/Masks\\image_3.mat</td>\n",
       "    </tr>\n",
       "    <tr>\n",
       "      <th>3</th>\n",
       "      <td>image_4.jpg</td>\n",
       "      <td>0</td>\n",
       "      <td>D:/Research/ML/G1020/Images\\image_4.jpg</td>\n",
       "      <td>D:/Research/ML/G1020/Masks\\image_4.mat</td>\n",
       "    </tr>\n",
       "    <tr>\n",
       "      <th>4</th>\n",
       "      <td>image_5.jpg</td>\n",
       "      <td>0</td>\n",
       "      <td>D:/Research/ML/G1020/Images\\image_5.jpg</td>\n",
       "      <td>D:/Research/ML/G1020/Masks\\image_5.mat</td>\n",
       "    </tr>\n",
       "  </tbody>\n",
       "</table>\n",
       "</div>"
      ],
      "text/plain": [
       "       imageID  binaryLabels                               Image Path  \\\n",
       "0  image_0.jpg             0  D:/Research/ML/G1020/Images\\image_0.jpg   \n",
       "1  image_1.jpg             0  D:/Research/ML/G1020/Images\\image_1.jpg   \n",
       "2  image_3.jpg             0  D:/Research/ML/G1020/Images\\image_3.jpg   \n",
       "3  image_4.jpg             0  D:/Research/ML/G1020/Images\\image_4.jpg   \n",
       "4  image_5.jpg             0  D:/Research/ML/G1020/Images\\image_5.jpg   \n",
       "\n",
       "                                Mask Path  \n",
       "0  D:/Research/ML/G1020/Masks\\image_0.mat  \n",
       "1  D:/Research/ML/G1020/Masks\\image_1.mat  \n",
       "2  D:/Research/ML/G1020/Masks\\image_3.mat  \n",
       "3  D:/Research/ML/G1020/Masks\\image_4.mat  \n",
       "4  D:/Research/ML/G1020/Masks\\image_5.mat  "
      ]
     },
     "execution_count": 19,
     "metadata": {},
     "output_type": "execute_result"
    }
   ],
   "source": [
    "import os\n",
    "\n",
    "img_root = \"D:/Research/ML/G1020/Images\"\n",
    "mask_root = \"D:/Research/ML/G1020/Masks\"\n",
    "\n",
    "meta[\"Image Path\"] = meta[\"imageID\"].apply(lambda fn: os.path.join(img_root, fn))\n",
    "meta[\"Mask Path\"] = meta[\"imageID\"].apply(lambda fn: os.path.join(mask_root, os.path.splitext(fn)[0] + \".mat\"))\n",
    "\n",
    "meta.head()\n"
   ]
  },
  {
   "cell_type": "code",
   "execution_count": 20,
   "id": "e4e5a368",
   "metadata": {},
   "outputs": [],
   "source": [
    "def remove_black_padding(img, mask):\n",
    "    contours, _ = cv2.findContours(mask, cv2.RETR_EXTERNAL, cv2.CHAIN_APPROX_SIMPLE)\n",
    "    cnt = max(contours, key=cv2.contourArea)\n",
    "    x,y,w,h = cv2.boundingRect(cnt)\n",
    "    \n",
    "    p = 30\n",
    "    crop = img[y-p:y+h+p, x-p:x+w+p]\n",
    "    crop = cv2.resize(crop, (400, 300))\n",
    "    return crop"
   ]
  },
  {
   "cell_type": "code",
   "execution_count": 21,
   "id": "a461fb8a",
   "metadata": {},
   "outputs": [],
   "source": [
    "def get_subject_images(row):\n",
    "    original_image = cv2.imread(row[\"Image Path\"])\n",
    "\n",
    "    # Loading mask from .mat file and extract numpy array of the mask, then make it one class\n",
    "    mat = scipy.io.loadmat(row[\"Mask Path\"])\n",
    "    binary_mask = (mat['mask'] > 0).astype(np.uint8)\n",
    "    mask = cv2.cvtColor(binary_mask*255, cv2.COLOR_GRAY2RGB)\n",
    "\n",
    "    # Apply mask to the original image\n",
    "    if mask.size != original_image.size:\n",
    "        shape = original_image.shape\n",
    "        mask = cv2.resize(mask, (shape[1], shape[0]))\n",
    "        \n",
    "    masked = original_image * (mask > 0)\n",
    "\n",
    "    # Remove Black Padding\n",
    "    removed_padding = remove_black_padding(original_image, binary_mask)\n",
    "    \n",
    "    all_images = {\n",
    "        \"Original Image\": original_image,\n",
    "        \"Mask\": mask,\n",
    "        \"Masked Image\": masked,\n",
    "        \"Removed Padding\": removed_padding\n",
    "    }\n",
    "    \n",
    "    return all_images"
   ]
  },
  {
   "cell_type": "code",
   "execution_count": 28,
   "id": "691d6210",
   "metadata": {},
   "outputs": [
    {
     "ename": "AttributeError",
     "evalue": "'NoneType' object has no attribute 'items'",
     "output_type": "error",
     "traceback": [
      "\u001b[1;31m---------------------------------------------------------------------------\u001b[0m",
      "\u001b[1;31mAttributeError\u001b[0m                            Traceback (most recent call last)",
      "Cell \u001b[1;32mIn[28], line 17\u001b[0m\n\u001b[0;32m     14\u001b[0m     plt\u001b[38;5;241m.\u001b[39mtight_layout()\n\u001b[0;32m     15\u001b[0m     plt\u001b[38;5;241m.\u001b[39mshow()\n\u001b[1;32m---> 17\u001b[0m visualize_images(num_subjects\u001b[38;5;241m=\u001b[39m\u001b[38;5;241m3\u001b[39m)\n",
      "Cell \u001b[1;32mIn[7], line 38\u001b[0m, in \u001b[0;36mdeterministic.<locals>.wrapper\u001b[1;34m(*args, **kwargs)\u001b[0m\n\u001b[0;32m     36\u001b[0m     random_seed \u001b[38;5;241m=\u001b[39m \u001b[38;5;241m0\u001b[39m\n\u001b[0;32m     37\u001b[0m make_deterministic(seed\u001b[38;5;241m=\u001b[39mrandom_seed)\n\u001b[1;32m---> 38\u001b[0m \u001b[38;5;28;01mreturn\u001b[39;00m func(\u001b[38;5;241m*\u001b[39margs, \u001b[38;5;241m*\u001b[39m\u001b[38;5;241m*\u001b[39mkwargs)\n",
      "Cell \u001b[1;32mIn[28], line 10\u001b[0m, in \u001b[0;36mvisualize_images\u001b[1;34m(num_subjects)\u001b[0m\n\u001b[0;32m      8\u001b[0m \u001b[38;5;28;01mfor\u001b[39;00m i, row \u001b[38;5;129;01min\u001b[39;00m meta\u001b[38;5;241m.\u001b[39msample(n\u001b[38;5;241m=\u001b[39mnum_subjects)\u001b[38;5;241m.\u001b[39mreset_index()\u001b[38;5;241m.\u001b[39miterrows():\n\u001b[0;32m      9\u001b[0m     all_images \u001b[38;5;241m=\u001b[39m get_subject_images(row)\n\u001b[1;32m---> 10\u001b[0m     \u001b[38;5;28;01mfor\u001b[39;00m j, (title, image) \u001b[38;5;129;01min\u001b[39;00m \u001b[38;5;28menumerate\u001b[39m(all_images\u001b[38;5;241m.\u001b[39mitems()):\n\u001b[0;32m     11\u001b[0m         axs[i, j]\u001b[38;5;241m.\u001b[39mimshow(image[\u001b[38;5;241m.\u001b[39m\u001b[38;5;241m.\u001b[39m\u001b[38;5;241m.\u001b[39m, ::\u001b[38;5;241m-\u001b[39m\u001b[38;5;241m1\u001b[39m])\n\u001b[0;32m     12\u001b[0m         axs[i, j]\u001b[38;5;241m.\u001b[39mset_title(title)\n",
      "\u001b[1;31mAttributeError\u001b[0m: 'NoneType' object has no attribute 'items'"
     ]
    },
    {
     "data": {
      "image/png": "[encoded data removed]",
      "text/plain": [
       "<Figure size 1200x1200 with 12 Axes>"
      ]
     },
     "metadata": {},
     "output_type": "display_data"
    }
   ],
   "source": [
    "import scipy.io\n",
    "\n",
    "@deterministic\n",
    "def visualize_images(num_subjects=3):\n",
    "    num_cols = 4\n",
    "    fig, axs = plt.subplots(num_subjects, num_cols, figsize=(num_cols*3, num_cols*num_subjects))\n",
    "    \n",
    "    for i, row in meta.sample(n=num_subjects).reset_index().iterrows():\n",
    "        all_images = get_subject_images(row)\n",
    "        for j, (title, image) in enumerate(all_images.items()):\n",
    "            axs[i, j].imshow(image[..., ::-1])\n",
    "            axs[i, j].set_title(title)\n",
    "\n",
    "    plt.tight_layout()\n",
    "    plt.show()\n",
    "    \n",
    "visualize_images(num_subjects=3)"
   ]
  },
  {
   "cell_type": "code",
   "execution_count": 26,
   "id": "cb9cf742",
   "metadata": {},
   "outputs": [],
   "source": [
    "import cv2\n",
    "\n",
    "def get_subject_images(row):\n",
    "    image = cv2.imread(row[\"Image Path\"])\n",
    "    if image is None:\n",
    "        print(f\"Failed to load image at: {row['Image Path']}\")\n",
    "    # similar for mask\n",
    "\n"
   ]
  },
  {
   "cell_type": "code",
   "execution_count": 27,
   "id": "2451af13",
   "metadata": {},
   "outputs": [
    {
     "ename": "NameError",
     "evalue": "name 'row' is not defined",
     "output_type": "error",
     "traceback": [
      "\u001b[1;31m---------------------------------------------------------------------------\u001b[0m",
      "\u001b[1;31mNameError\u001b[0m                                 Traceback (most recent call last)",
      "Cell \u001b[1;32mIn[27], line 1\u001b[0m\n\u001b[1;32m----> 1\u001b[0m \u001b[38;5;28mprint\u001b[39m(\u001b[38;5;124m\"\u001b[39m\u001b[38;5;124mImage Path:\u001b[39m\u001b[38;5;124m\"\u001b[39m, row[\u001b[38;5;124m\"\u001b[39m\u001b[38;5;124mImage Path\u001b[39m\u001b[38;5;124m\"\u001b[39m])\n\u001b[0;32m      2\u001b[0m \u001b[38;5;28mprint\u001b[39m(\u001b[38;5;124m\"\u001b[39m\u001b[38;5;124mExists:\u001b[39m\u001b[38;5;124m\"\u001b[39m, os\u001b[38;5;241m.\u001b[39mpath\u001b[38;5;241m.\u001b[39mexists(row[\u001b[38;5;124m\"\u001b[39m\u001b[38;5;124mImage Path\u001b[39m\u001b[38;5;124m\"\u001b[39m]))\n",
      "\u001b[1;31mNameError\u001b[0m: name 'row' is not defined"
     ]
    }
   ],
   "source": [
    "print(\"Image Path:\", row[\"Image Path\"])\n",
    "print(\"Exists:\", os.path.exists(row[\"Image Path\"]))\n"
   ]
  }
 ],
 "metadata": {
  "kernelspec": {
   "display_name": "base",
   "language": "python",
   "name": "python3"
  },
  "language_info": {
   "codemirror_mode": {
    "name": "ipython",
    "version": 3
   },
   "file_extension": ".py",
   "mimetype": "text/x-python",
   "name": "python",
   "nbconvert_exporter": "python",
   "pygments_lexer": "ipython3",
   "version": "3.12.7"
  }
 },
 "nbformat": 4,
 "nbformat_minor": 5
}
