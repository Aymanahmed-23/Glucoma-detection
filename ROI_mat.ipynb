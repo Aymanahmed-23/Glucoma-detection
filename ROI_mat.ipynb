{
 "cells": [
  {
   "cell_type": "code",
   "execution_count": 7,
   "id": "5e0217c4",
   "metadata": {},
   "outputs": [],
   "source": [
    "import os\n",
    "from PIL import Image\n",
    "import numpy as np\n",
    "import scipy.io as sio\n",
    "from torchvision import transforms\n",
    "\n",
    "\n",
    "\n",
    "\n"
   ]
  },
  {
   "cell_type": "code",
   "execution_count": 8,
   "id": "16ce2cc2",
   "metadata": {},
   "outputs": [
    {
     "name": "stdout",
     "output_type": "stream",
     "text": [
      "Using device: cuda\n"
     ]
    }
   ],
   "source": [
    "import torch\n",
    "device = torch.device(\"cuda\" if torch.cuda.is_available() else \"cpu\")\n",
    "print(f\"Using device: {device}\")"
   ]
  },
  {
   "cell_type": "code",
   "execution_count": 9,
   "id": "7cbf6952",
   "metadata": {},
   "outputs": [],
   "source": [
    "# Define paths\n",
    "raw_images_dir = \"ORIGA/ORIGA/raw_images\"\n",
    "annotations_dir = \"ORIGA/ORIGA/Semi-automatic-annotations\"\n",
    "output_dir = \"ORIGA/ORIGA/processed_images\"\n",
    "\n",
    "\n"
   ]
  },
  {
   "cell_type": "code",
   "execution_count": 10,
   "id": "6e549079",
   "metadata": {},
   "outputs": [],
   "source": [
    "from torchvision import transforms\n",
    "\n",
    "transform = transforms.Compose([\n",
    "    transforms.Resize((256, 256)),\n",
    "    transforms.ToTensor()\n",
    "])\n"
   ]
  },
  {
   "cell_type": "code",
   "execution_count": null,
   "id": "d8e2420d",
   "metadata": {},
   "outputs": [],
   "source": [
    "def extract_roi_from_mask(image_path, mat_path, save_path):\n",
    "    \n",
    "    img = Image.open(image_path).convert(\"RGB\")\n",
    "    img_np = np.array(img)\n",
    "\n",
    "    \n",
    "    mat = sio.loadmat(mat_path)\n",
    "    if 'mask' not in mat:\n",
    "        print(f\"No 'mask' key in {mat_path}\")\n",
    "        return\n",
    "\n",
    "    mask = mat['mask']\n",
    "\n",
    "    \n",
    "    coords = np.argwhere(mask > 0)\n",
    "    if coords.size == 0:\n",
    "        print(f\"No mask found in {mat_path}\")\n",
    "        return\n",
    "\n",
    "    y_min, x_min = coords.min(axis=0)\n",
    "    y_max, x_max = coords.max(axis=0)\n",
    "\n",
    "    \n",
    "    roi = img.crop((x_min, y_min, x_max, y_max))\n",
    "    roi_tensor = transform(roi).to(device) \n",
    "\n",
    "    \n",
    "    roi_img = transforms.ToPILImage()(roi_tensor.cpu())\n",
    "    roi_img.save(save_path)\n"
   ]
  },
  {
   "cell_type": "code",
   "execution_count": null,
   "id": "362c40e2",
   "metadata": {},
   "outputs": [],
   "source": [
    "for filename in os.listdir(raw_images_dir):\n",
    "    if filename.lower().endswith(('.jpg', '.png')):\n",
    "        base_name = os.path.splitext(filename)[0]\n",
    "        image_path = os.path.join(raw_images_dir, filename)\n",
    "        mat_path = os.path.join(annotations_dir, base_name + \".mat\")\n",
    "        save_path = os.path.join(output_dir, base_name + \"_roi.jpg\")\n",
    "\n",
    "        if os.path.exists(mat_path):\n",
    "            try:\n",
    "                extract_roi_from_mask(image_path, mat_path, save_path)\n",
    "                print(f\"Processed {filename}\")\n",
    "            except Exception as e:\n",
    "                print(f\"Error processing {filename}: {e}\")\n",
    "        else:\n",
    "            print(f\"No annotation found for {filename}\")\n"
   ]
  }
 ],
 "metadata": {
  "kernelspec": {
   "display_name": "pytorch_cuda",
   "language": "python",
   "name": "python3"
  },
  "language_info": {
   "codemirror_mode": {
    "name": "ipython",
    "version": 3
   },
   "file_extension": ".py",
   "mimetype": "text/x-python",
   "name": "python",
   "nbconvert_exporter": "python",
   "pygments_lexer": "ipython3",
   "version": "3.11.11"
  }
 },
 "nbformat": 4,
 "nbformat_minor": 5
}
